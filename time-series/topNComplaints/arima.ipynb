{
 "cells": [
  {
   "cell_type": "code",
   "execution_count": null,
   "metadata": {
    "collapsed": false
   },
   "outputs": [],
   "source": [
    "library(hash)\n",
    "library(xts)\n",
    "library(lubridate)\n",
    "library(forecast)\n",
    "library(fpp)"
   ]
  },
  {
   "cell_type": "code",
   "execution_count": null,
   "metadata": {
    "collapsed": true
   },
   "outputs": [],
   "source": [
    "DATA_FOLDER <- \"/home/samarth/workspaces/datakind-workspace/analytics/time-series/data/topNComplaints\"\n",
    "RESULTS_FOLDER <- \"/home/samarth/workspaces/datakind-workspace/analytics/time-series/results/topNComplaints/arima\""
   ]
  },
  {
   "cell_type": "code",
   "execution_count": null,
   "metadata": {
    "collapsed": false
   },
   "outputs": [],
   "source": [
    "loadData <- function(dataFolder) {\n",
    "    files <- list.files(dataFolder)\n",
    "    data <- list()\n",
    "    for(file in files) {    \n",
    "        df <- read.csv(paste0(dataFolder, \"/\", file), stringsAsFactors=F)    \n",
    "        minYear <- min(df$Year)\n",
    "        complaintType <- substr(file,1,(nchar(file))-4)    \n",
    "        tsObject <- ts(df$Complaints, start=c(minYear, 1), frequency = 12)\n",
    "        data[[complaintType]] <- tsObject\n",
    "    }\n",
    "    data\n",
    "}\n",
    "data <- loadData(DATA_FOLDER)\n",
    "complaintTypes <- names(data)\n",
    "data[[complaintTypes[1]]]"
   ]
  },
  {
   "cell_type": "code",
   "execution_count": null,
   "metadata": {
    "collapsed": true
   },
   "outputs": [],
   "source": [
    "# time windows for the data\n",
    "dataStart <- c(2012, 1)\n",
    "dataEnd <- c(2016, 6)\n",
    "trainStart <- c(2012, 1)\n",
    "trainEnd <- c(2015, 6)\n",
    "testStart <- c(2015, 7)\n",
    "testEnd <- c(2016, 6)"
   ]
  },
  {
   "cell_type": "code",
   "execution_count": null,
   "metadata": {
    "collapsed": false
   },
   "outputs": [],
   "source": [
    "buildArimaModel <- function(data, complaintType, order=c(12, 1, 1)) {\n",
    "    print(paste0(\"Building ARIMA model for \", complaintType))\n",
    "    raw <- data[[complaintType]]        \n",
    "    # since pre-2012, there were very few data points, subset it. also, we only consider 2015 data    \n",
    "    monthly <- window(raw, start=dataStart, end=dataEnd)        \n",
    "    # split into 'test' and 'train' set\n",
    "    trainData <- window(monthly, start=trainStart, end=trainEnd)\n",
    "    testData <- window(monthly, start=testStart, end=testEnd)\n",
    "    # plot acf and pacf    \n",
    "    tsdisplay(trainData, main=\"Plot of data\")            \n",
    "    fit <- Arima(trainData, order=order, method=\"ML\")    \n",
    "    plot(forecast(fit, h=12), main=\"Forecasts\")\n",
    "    lines(testData, lty=2)\n",
    "}\n",
    "buildArimaModel(data, complaintTypes[4], order=c(12, 2, 4))"
   ]
  },
  {
   "cell_type": "code",
   "execution_count": null,
   "metadata": {
    "collapsed": false
   },
   "outputs": [],
   "source": [
    "## since there's no easy way to guess the (p, d, q) values for ARIMA, \n",
    "# construct a grid of possible values, and find the best set of params that give best RMSE\n",
    "grid <- expand.grid(p=seq(1,12), q=seq(1, 12), d=seq(1, 3))\n",
    "head(grid)"
   ]
  },
  {
   "cell_type": "code",
   "execution_count": null,
   "metadata": {
    "collapsed": false
   },
   "outputs": [],
   "source": [
    "complaintTypes"
   ]
  },
  {
   "cell_type": "code",
   "execution_count": null,
   "metadata": {
    "collapsed": false
   },
   "outputs": [],
   "source": [
    "getMAPE <- function(trainData, validationData, order, seasonalOrder=c(0,0,0), lambda=NA) {\n",
    "    # get a MAPE of the forecase, after a model with the given params have been fitted\n",
    "    fit <- Arima(trainData, order=order, seasonal=seasonalOrder, method=\"ML\")        \n",
    "    acc <- accuracy(forecast(fit, h=9), validationData)\n",
    "    return(list(\"testMAPE\"=acc[2,5], \"trainMAPE\"=acc[1,5], \"testRMSE\"=acc[2, 2]))\n",
    "}\n",
    "findBestParams <- function(grid, data, complaintType) {    \n",
    "    start.time <- Sys.time()\n",
    "    print(paste0(\"Finding best (p, d, q) values for \", complaintType))\n",
    "    raw <- data[[complaintType]]        \n",
    "    # since pre-2012, there were very few data points, subset it. also, we only consider 2015 data \n",
    "    # for grid, search, we need to split the data into 3 parts (simple cross-validation)\n",
    "    # a train set - used to fit the model\n",
    "    # a validation set - the MAPE values are computed on this to find the best value\n",
    "    # a test set - to get a accurate MAPE value    \n",
    "    monthly <- window(raw, start=dataStart, end=dataEnd)    \n",
    "    trainStart <- c(2012, 1)\n",
    "    trainEnd <- c(2015, 12)\n",
    "    # 3 months of data\n",
    "    validationStart <- c(2016, 1)\n",
    "    validationEnd <- c(2016, 3)\n",
    "    # 3 months of data\n",
    "    testStart <- c(2016, 4)\n",
    "    testEnd <- c(2016, 6)\n",
    "    \n",
    "    # split into 'test' and 'train' set\n",
    "    trainData <- window(monthly, start=trainStart, end=trainEnd)\n",
    "    validationData <- window(monthly, start=validationStart, end=validationEnd)\n",
    "    testData <- window(monthly, start=testStart, end=testEnd)\n",
    "    # plot acf and pacf\n",
    "    tsdisplay(trainData, main=\"Plot of data\")\n",
    "    bestParam <- NULL\n",
    "    bestMAPE <- list(\"testMAPE\"=100.0, \"trainMAPE\"=100.0, \"testRMSE\"=9999.0)\n",
    "    for(i in 1:nrow(grid)) {\n",
    "        o <- grid[i,]\n",
    "        currentOrder <- c(o$p, o$d, o$q)\n",
    "        mapes <- tryCatch(\n",
    "          getMAPE(trainData, validationData, order=currentOrder),\n",
    "          error=function(e) e\n",
    "        )\n",
    "        if(inherits(mapes, \"error\")) next        \n",
    "        if(mapes$testRMSE < bestMAPE$testRMSE) {\n",
    "            bestMAPE <- mapes\n",
    "            bestParam <- currentOrder\n",
    "        }        \n",
    "    }\n",
    "    print(\"Best params\")\n",
    "    print(bestParam)\n",
    "    print(\"with MAPE:\")\n",
    "    print(bestMAPE)\n",
    "    end.time <- Sys.time()\n",
    "    time.taken <- end.time - start.time\n",
    "    print(paste0(\"Time:\", time.taken))\n",
    "    return(bestParam)\n",
    "}"
   ]
  },
  {
   "cell_type": "code",
   "execution_count": null,
   "metadata": {
    "collapsed": false
   },
   "outputs": [],
   "source": [
    "paramList <- list()\n",
    "for(complaintType in complaintTypes) {\n",
    "    bestParam <- findBestParams(grid, data, complaintType)\n",
    "    paramList[[complaintType]] <- bestParam\n",
    "}"
   ]
  },
  {
   "cell_type": "code",
   "execution_count": null,
   "metadata": {
    "collapsed": false
   },
   "outputs": [],
   "source": [
    "# for some complaints, the method about doesn't really work well, for those I manually overrode them\n",
    "paramListClone <- list()\n",
    "for (complaintType in names(paramList)) {\n",
    "    paramListClone[[complaintType]] <- paramList[[complaintType]]\n",
    "}\n",
    "\n",
    "# Request to relay road\n",
    "#paramList[[9]] <- c(9, 1, 4)\n",
    "#paramList[[10]] <- c(12, 1, 4)\n",
    "#paramList[[8]] <- c(12, 2, 1)\n",
    "#paramList[[4]] <- c(12, 2, 4)"
   ]
  },
  {
   "cell_type": "code",
   "execution_count": null,
   "metadata": {
    "collapsed": false
   },
   "outputs": [],
   "source": [
    "# print best params for each complaint type, and save the results\n",
    "for (complaintType in names(paramList)) {\n",
    "    print(complaintType)\n",
    "    print(paramList[[complaintType]])\n",
    "    o <- paramList[[complaintType]]    \n",
    "    print(paste0(\"Building ARIMA model for \", complaintType))\n",
    "    raw <- data[[complaintType]]        \n",
    "    # since pre-2012, there were very few data points, subset it. also, we only consider 2015 data    \n",
    "    monthly <- window(raw, start=dataStart, end=dataEnd)        \n",
    "    # split into 'test' and 'train' set\n",
    "    trainData <- window(monthly, start=trainStart, end=trainEnd)\n",
    "    testData <- window(monthly, start=testStart, end=testEnd)        \n",
    "    fit <- Arima(trainData, order=o, method=\"ML\")\n",
    "    png(filename = file.path(file.path(RESULTS_FOLDER, paste0(complaintType, \".png\"))), res=500,  width = 12, height = 8, units = 'in')    \n",
    "    pred <- forecast(fit, h=12)\n",
    "    mapes <- accuracy(pred, testData)\n",
    "    testMape <- mapes[2, 5]    \n",
    "    plot(pred, main=paste0(\"Forecasts for \", complaintType), xlab=\"Time\", ylab=\"Complaints\")    \n",
    "    lines(testData, lty=2)\n",
    "    legend(\"topleft\",col=c(1,1,4), lty=c(1, 2, 1),\n",
    "      legend=c(\"Actual Data\", \"Unseen data\", \"Prediction\"))    \n",
    "    legend(\"topright\", legend=c(paste0(\"MAPE: \", testMape), paste0(\"Params:\", paste(o, collapse=\" \"))))\n",
    "    dev.off()    \n",
    "}"
   ]
  },
  {
   "cell_type": "markdown",
   "metadata": {},
   "source": [
    "# ARIMA with pre-processing of data\n",
    "In this section, we'll try to do some pre-processing of the data to see if it works for certain types of data.\n",
    "The first transformation is called the Box-Cox transform specified in [here](https://www.otexts.org/fpp/2/4)"
   ]
  },
  {
   "cell_type": "markdown",
   "metadata": {
    "collapsed": true
   },
   "source": [
    "# Seasonal ARIMA\n",
    "Seasonal arima or SARIMA models have two parts to it - a non-seasonal part and a seasonal part. \n",
    "In the R, library, you can set the params using `P,D,Q` in the `Arima` method"
   ]
  },
  {
   "cell_type": "code",
   "execution_count": null,
   "metadata": {
    "collapsed": false
   },
   "outputs": [],
   "source": [
    "grid <- expand.grid(p=seq(1,12), q=seq(1, 6), d=seq(1, 3), P=seq(1, 6), Q=seq(1, 3), D=seq(1))\n",
    "tail(grid)"
   ]
  },
  {
   "cell_type": "code",
   "execution_count": null,
   "metadata": {
    "collapsed": false
   },
   "outputs": [],
   "source": [
    "findBestParamsSeasonal <- function(grid, data, complaintType) {    \n",
    "    start.time <- Sys.time()\n",
    "    print(paste0(\"Finding best [(p, d, q), (P,Q,D)] values for \", complaintType))\n",
    "    raw <- data[[complaintType]]        \n",
    "    # since pre-2012, there were very few data points, subset it. also, we only consider 2015 data \n",
    "    # for grid, search, we need to split the data into 3 parts (simple cross-validation)\n",
    "    # a train set - used to fit the model\n",
    "    # a validation set - the MAPE values are computed on this to find the best value\n",
    "    # a test set - to get a accurate MAPE value    \n",
    "    monthly <- window(raw, start=dataStart, end=dataEnd)    \n",
    "    trainStart <- c(2012, 1)\n",
    "    trainEnd <- c(2015, 12)\n",
    "    # 3 months of data\n",
    "    validationStart <- c(2016, 1)\n",
    "    validationEnd <- c(2016, 3)\n",
    "    # 3 months of data\n",
    "    testStart <- c(2016, 4)\n",
    "    testEnd <- c(2016, 6)\n",
    "    \n",
    "    # split into 'test' and 'train' set\n",
    "    trainData <- window(monthly, start=trainStart, end=trainEnd)\n",
    "    validationData <- window(monthly, start=validationStart, end=validationEnd)\n",
    "    testData <- window(monthly, start=testStart, end=testEnd)\n",
    "    # plot acf and pacf\n",
    "    tsdisplay(trainData, main=\"Plot of data\")\n",
    "    bestParam <- NULL\n",
    "    bestMAPE <- list(\"testMAPE\"=100.0, \"trainMAPE\"=100.0, \"testRMSE\"=9999.0)\n",
    "    for(i in 1:nrow(grid)) {\n",
    "        o <- grid[i,]\n",
    "        currentOrder <- c(o$p, o$d, o$q)\n",
    "        seasonalOrder <- c(o$P, o$D, o$q)\n",
    "        mapes <- tryCatch(\n",
    "          getMAPE(trainData, validationData, order=currentOrder, seasonalOrder = seasonalOrder),\n",
    "          error=function(e) e\n",
    "        )\n",
    "        if(inherits(mapes, \"error\")) next        \n",
    "        if(mapes$testRMSE < bestMAPE$testRMSE) {\n",
    "            bestMAPE <- mapes\n",
    "            bestParam <- list(order=currentOrder, seasonal=seasonalOrder)\n",
    "        }        \n",
    "    }\n",
    "    print(\"Best params\")\n",
    "    print(bestParam)\n",
    "    print(\"with MAPE:\")\n",
    "    print(bestMAPE)\n",
    "    end.time <- Sys.time()\n",
    "    time.taken <- end.time - start.time\n",
    "    print(paste0(\"Time:\", time.taken))\n",
    "    return(bestParam)\n",
    "}"
   ]
  },
  {
   "cell_type": "code",
   "execution_count": null,
   "metadata": {
    "collapsed": false
   },
   "outputs": [],
   "source": [
    "bestParam <- findBestParamsSeasonal(grid, data, complaintTypes[1])"
   ]
  }
 ],
 "metadata": {
  "kernelspec": {
   "display_name": "R",
   "language": "R",
   "name": "ir"
  },
  "language_info": {
   "codemirror_mode": "r",
   "file_extension": ".r",
   "mimetype": "text/x-r-source",
   "name": "R",
   "pygments_lexer": "r",
   "version": "3.3.1"
  }
 },
 "nbformat": 4,
 "nbformat_minor": 0
}
