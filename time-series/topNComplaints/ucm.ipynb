{
 "cells": [
  {
   "cell_type": "code",
   "execution_count": null,
   "metadata": {
    "collapsed": false
   },
   "outputs": [],
   "source": [
    "library(hash)\n",
    "library(xts)\n",
    "library(lubridate)\n",
    "library(forecast)\n",
    "library(fpp)\n",
    "library(rucm)"
   ]
  },
  {
   "cell_type": "code",
   "execution_count": null,
   "metadata": {
    "collapsed": true
   },
   "outputs": [],
   "source": [
    "DATA_FOLDER <- \"/home/samarth/workspaces/datakind-workspace/analytics/time-series/data/topNComplaints\"\n",
    "RESULTS_FOLDER <- \"/home/samarth/workspaces/datakind-workspace/analytics/time-series/results/topNComplaints/ucm\"\n",
    "dataStart <- c(2012, 1)\n",
    "dataEnd <- c(2015, 12)\n",
    "trainStart <- c(2012, 1)\n",
    "trainEnd <- c(2014, 12)\n",
    "testStart <- c(2015, 1)\n",
    "testEnd <- c(2015, 12)"
   ]
  },
  {
   "cell_type": "code",
   "execution_count": null,
   "metadata": {
    "collapsed": false
   },
   "outputs": [],
   "source": [
    "loadData <- function(dataFolder) {\n",
    "    files <- list.files(dataFolder)\n",
    "    data <- list()\n",
    "    for(file in files) {    \n",
    "        df <- read.csv(paste0(dataFolder, \"/\", file), stringsAsFactors=F)    \n",
    "        minYear <- min(df$Year)\n",
    "        complaintType <- substr(file,1,(nchar(file))-4)    \n",
    "        tsObject <- ts(df$Complaints, start=c(minYear, 1), frequency = 12)\n",
    "        data[[complaintType]] <- window(tsObject, start=dataStart, end=dataEnd)\n",
    "    }\n",
    "    data\n",
    "}\n",
    "data <- loadData(DATA_FOLDER)\n",
    "complaintTypes <- names(data)\n",
    "data[[complaintTypes[1]]]"
   ]
  },
  {
   "cell_type": "code",
   "execution_count": null,
   "metadata": {
    "collapsed": false
   },
   "outputs": [],
   "source": [
    "# try it out\n",
    "monthly <- data[[complaintTypes[6]]]\n",
    "trainData <- window(monthly, start=trainStart, end=trainEnd)\n",
    "testData <- window(monthly, start=testStart, end=testEnd)\n",
    "fit <- ucm(formula=trainData~0, data=trainData, level=T, slope = F, season = TRUE, season.length=6)\n",
    "pred <- predict(fit$model, n.ahead=12)\n",
    "plot(monthly)\n",
    "lines(pred, lty=2, col=1)\n",
    "accuracy(testData, pred)"
   ]
  },
  {
   "cell_type": "code",
   "execution_count": null,
   "metadata": {
    "collapsed": false
   },
   "outputs": [],
   "source": [
    "# store experiment results in this data frame\n",
    "results <- data.frame(Complaint.Type=c(), season.length=c(), cycle.period=c(), MAPE=c(), RMSE=c())"
   ]
  },
  {
   "cell_type": "code",
   "execution_count": null,
   "metadata": {
    "collapsed": false
   },
   "outputs": [],
   "source": [
    "for(complaintType in complaintTypes) {\n",
    "    monthly <- data[[complaintType]]\n",
    "    trainData <- window(monthly, start=trainStart, end=trainEnd)\n",
    "    testData <- window(monthly, start=testStart, end=testEnd)\n",
    "    grid <- expand.grid(season.length=seq(1, 3), cycle.period=seq(1, 3), MAPE=NA, RMSE=NA)\n",
    "    for(i in 1:nrow(grid)) {\n",
    "        getAccuracy <- function(trainData, testData, g) {\n",
    "            season.length <- g$season.length\n",
    "            cycle.period <- g$cycle.period    \n",
    "            fit <- ucm(formula=trainData~0, data=trainData, \n",
    "                       level=T, slope = T, season = T, cycle = F, \n",
    "                       season.length=season.length, cycle.period=cycle.period)\n",
    "            pred <- predict(fit$model, n.ahead=12)\n",
    "            return(accuracy(testData, pred))        \n",
    "        }    \n",
    "        g <- grid[i, ]\n",
    "        acc <- tryCatch(\n",
    "              getAccuracy(trainData, testData, g),\n",
    "              error=function(e) e\n",
    "            )\n",
    "        if(inherits(acc, \"error\")) next        \n",
    "        grid[i, ]$MAPE <- acc[1, 5]\n",
    "        grid[i, ]$RMSE <- acc[1, 2]    \n",
    "    }\n",
    "    grid$Complaint.Type <- complaintType\n",
    "    results <- rbind(results, grid)    \n",
    "}"
   ]
  },
  {
   "cell_type": "code",
   "execution_count": null,
   "metadata": {
    "collapsed": false
   },
   "outputs": [],
   "source": [
    "tail(results)"
   ]
  },
  {
   "cell_type": "code",
   "execution_count": null,
   "metadata": {
    "collapsed": false
   },
   "outputs": [],
   "source": [
    "write.csv(results, file=paste0(RESULTS_FOLDER,\"/results.csv\"), row.names=F)"
   ]
  },
  {
   "cell_type": "code",
   "execution_count": null,
   "metadata": {
    "collapsed": true
   },
   "outputs": [],
   "source": []
  }
 ],
 "metadata": {
  "kernelspec": {
   "display_name": "R",
   "language": "R",
   "name": "ir"
  },
  "language_info": {
   "codemirror_mode": "r",
   "file_extension": ".r",
   "mimetype": "text/x-r-source",
   "name": "R",
   "pygments_lexer": "r",
   "version": "3.3.1"
  }
 },
 "nbformat": 4,
 "nbformat_minor": 0
}
