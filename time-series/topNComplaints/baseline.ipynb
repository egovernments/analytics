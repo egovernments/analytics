{
 "cells": [
  {
   "cell_type": "code",
   "execution_count": null,
   "metadata": {
    "collapsed": false
   },
   "outputs": [],
   "source": [
    "library(hash)\n",
    "library(xts)\n",
    "library(lubridate)\n",
    "library(forecast)\n",
    "library(fpp)"
   ]
  },
  {
   "cell_type": "code",
   "execution_count": 1,
   "metadata": {
    "collapsed": true
   },
   "outputs": [],
   "source": [
    "# Constants used throughout the code\n",
    "INPUT_FILE <- \"/home/samarth/workspaces/datakind-workspace/cocUptoJuly2016.csv\"\n",
    "DATA_FOLDER <- \"/home/samarth/workspaces/datakind-workspace/analytics/time-series/data/topNComplaints\""
   ]
  },
  {
   "cell_type": "markdown",
   "metadata": {
    "collapsed": true
   },
   "source": [
    "# Base Vignette\n",
    "Purpose:\n",
    "- To provide a quick start code snippet to get the data, loaded into a useable format for forecasting modules\n",
    "- Establish a baseline forecast"
   ]
  },
  {
   "cell_type": "code",
   "execution_count": 2,
   "metadata": {
    "collapsed": false
   },
   "outputs": [
    {
     "data": {
      "text/html": [
       "<table>\n",
       "<thead><tr><th></th><th scope=col>X.1</th><th scope=col>X</th><th scope=col>Complaint.Type</th><th scope=col>Area</th><th scope=col>Locality</th><th scope=col>Street</th><th scope=col>Region</th><th scope=col>Zone</th><th scope=col>Ward</th><th scope=col>Complaint.Details</th><th scope=col>Email</th><th scope=col>Mobile</th><th scope=col>Department</th><th scope=col>Complaint.Date</th><th scope=col>Resolution.Date</th><th scope=col>Number.of.days.for.resolution</th><th scope=col>Range</th><th scope=col>Is.Resolved</th><th scope=col>NumComplaints</th></tr></thead>\n",
       "<tbody>\n",
       "\t<tr><th scope=row>1</th><td>1                               </td><td>1                               </td><td>Mosquito menace                 </td><td>Raja Annamalai Puram            </td><td>Raja Annamalai Puram            </td><td>Chamiers Iv Lane                </td><td>Central Region                  </td><td>N09                             </td><td>N122                            </td><td>PLEASE RECTIFY THE PROBLEM SIR. </td><td>00e3902431681886db4cf60de2db9188</td><td>f0fbecb87d53088508df2164687a7974</td><td>NJ-TEYNAMPET                    </td><td>16679                           </td><td>NA                              </td><td>NA                              </td><td>NA                              </td><td>NO                              </td><td>1                               </td></tr>\n",
       "\t<tr><th scope=row>2</th><td>2                                                                                                                                                                                                                        </td><td>2                                                                                                                                                                                                                        </td><td>Complaints related to property tax                                                                                                                                                                                       </td><td>Mylapore                                                                                                                                                                                                                 </td><td>Mylapore                                                                                                                                                                                                                 </td><td>Justice Sundaram Salai                                                                                                                                                                                                   </td><td>Central Region                                                                                                                                                                                                           </td><td>N09                                                                                                                                                                                                                      </td><td>N124                                                                                                                                                                                                                     </td><td>i remitted the tax arrears of rs 4522 on 21-08-2017 via citi bank card. i have been debited my bank and they confirm the transaction is through. but whereas in the web still it shows as arrears, can you please help me</td><td>00e3902431681886db4cf60de2db9188                                                                                                                                                                                         </td><td>44c25de05e7654fa0f45741a3391a6d9                                                                                                                                                                                         </td><td>NJ-TEYNAMPET                                                                                                                                                                                                             </td><td>16679                                                                                                                                                                                                                    </td><td>NA                                                                                                                                                                                                                       </td><td>NA                                                                                                                                                                                                                       </td><td>NA                                                                                                                                                                                                                       </td><td>NO                                                                                                                                                                                                                       </td><td>1                                                                                                                                                                                                                        </td></tr>\n",
       "\t<tr><th scope=row>3</th><td>3                                                           </td><td>3                                                           </td><td>Stray cattle                                                </td><td>Raja Annamalai Puram                                        </td><td>Rohini Garden                                               </td><td>Rohini Garden Cross Street                                  </td><td>South Region                                                </td><td>N13                                                         </td><td>N173                                                        </td><td>PLEASE CATCH THE STRAY CATTLE PROBLEM SIR SO PLEASE RECTIFY.</td><td>00e3902431681886db4cf60de2db9188                            </td><td>550e0ba50963aa8d8074508918c9fba3                            </td><td>NN-ADYAR                                                    </td><td>16679                                                       </td><td>NA                                                          </td><td>NA                                                          </td><td>NA                                                          </td><td>NO                                                          </td><td>1                                                           </td></tr>\n",
       "\t<tr><th scope=row>4</th><td>4                                               </td><td>4                                               </td><td>Dog menace                                      </td><td>Kodungaiyur                                     </td><td>K.M Nagar                                       </td><td>Perumal St                                      </td><td>North Region                                    </td><td>N04                                             </td><td>N037                                            </td><td>SO MANY DOGS ARE HERE SO KINDLY TAKE ACTION SIR.</td><td>00e3902431681886db4cf60de2db9188                </td><td>f0aa1d06f3216e1cc2adef8f8bf1c376                </td><td>ND-TONDIARPET                                   </td><td>16679                                           </td><td>NA                                              </td><td>NA                                              </td><td>NA                                              </td><td>NO                                              </td><td>1                                               </td></tr>\n",
       "\t<tr><th scope=row>5</th><td>5                               </td><td>5                               </td><td>Desilting of Drain              </td><td>MADURAVOYAL                     </td><td>KRISHNA NAGAR                   </td><td>KRISHNA NAGAR 24TH STREET       </td><td>South Region                    </td><td>N11                             </td><td>N147                            </td><td>PLEASE RECTIFY THE PROBLEM.     </td><td>00e3902431681886db4cf60de2db9188</td><td>d1d8af0359f1c13650622e2ceda58886</td><td>NL-VALASARAVAKKAM               </td><td>16679                           </td><td>NA                              </td><td>NA                              </td><td>NA                              </td><td>NO                              </td><td>1                               </td></tr>\n",
       "\t<tr><th scope=row>6</th><td>6                                                                      </td><td>6                                                                      </td><td>Dog menace                                                             </td><td>Gopalapuram                                                            </td><td>Gopalapuram                                                            </td><td>Ganesh Street                                                          </td><td>Central Region                                                         </td><td>N09                                                                    </td><td>N111                                                                   </td><td>SO MANY COWS ARE AROUND IN MY AREA SO PLEASE KINDLY CATCH THAT COWS SIR</td><td>00e3902431681886db4cf60de2db9188                                       </td><td>e0227e34bff8489fe1c048d0ad97f92b                                       </td><td>NJ-TEYNAMPET                                                           </td><td>16679                                                                  </td><td>NA                                                                     </td><td>NA                                                                     </td><td>NA                                                                     </td><td>NO                                                                     </td><td>1                                                                      </td></tr>\n",
       "</tbody>\n",
       "</table>\n"
      ],
      "text/latex": [
       "\\begin{tabular}{r|lllllllllllllllllll}\n",
       "  & X.1 & X & Complaint.Type & Area & Locality & Street & Region & Zone & Ward & Complaint.Details & Email & Mobile & Department & Complaint.Date & Resolution.Date & Number.of.days.for.resolution & Range & Is.Resolved & NumComplaints\\\\\n",
       "\\hline\n",
       "\t1 & 1                                & 1                                & Mosquito menace                  & Raja Annamalai Puram             & Raja Annamalai Puram             & Chamiers Iv Lane                 & Central Region                   & N09                              & N122                             & PLEASE RECTIFY THE PROBLEM SIR.  & 00e3902431681886db4cf60de2db9188 & f0fbecb87d53088508df2164687a7974 & NJ-TEYNAMPET                     & 16679                            & NA                               & NA                               & NA                               & NO                               & 1                               \\\\\n",
       "\t2 & 2                                                                                                                                                                                                                         & 2                                                                                                                                                                                                                         & Complaints related to property tax                                                                                                                                                                                        & Mylapore                                                                                                                                                                                                                  & Mylapore                                                                                                                                                                                                                  & Justice Sundaram Salai                                                                                                                                                                                                    & Central Region                                                                                                                                                                                                            & N09                                                                                                                                                                                                                       & N124                                                                                                                                                                                                                      & i remitted the tax arrears of rs 4522 on 21-08-2017 via citi bank card. i have been debited my bank and they confirm the transaction is through. but whereas in the web still it shows as arrears, can you please help me & 00e3902431681886db4cf60de2db9188                                                                                                                                                                                          & 44c25de05e7654fa0f45741a3391a6d9                                                                                                                                                                                          & NJ-TEYNAMPET                                                                                                                                                                                                              & 16679                                                                                                                                                                                                                     & NA                                                                                                                                                                                                                        & NA                                                                                                                                                                                                                        & NA                                                                                                                                                                                                                        & NO                                                                                                                                                                                                                        & 1                                                                                                                                                                                                                        \\\\\n",
       "\t3 & 3                                                            & 3                                                            & Stray cattle                                                 & Raja Annamalai Puram                                         & Rohini Garden                                                & Rohini Garden Cross Street                                   & South Region                                                 & N13                                                          & N173                                                         & PLEASE CATCH THE STRAY CATTLE PROBLEM SIR SO PLEASE RECTIFY. & 00e3902431681886db4cf60de2db9188                             & 550e0ba50963aa8d8074508918c9fba3                             & NN-ADYAR                                                     & 16679                                                        & NA                                                           & NA                                                           & NA                                                           & NO                                                           & 1                                                           \\\\\n",
       "\t4 & 4                                                & 4                                                & Dog menace                                       & Kodungaiyur                                      & K.M Nagar                                        & Perumal St                                       & North Region                                     & N04                                              & N037                                             & SO MANY DOGS ARE HERE SO KINDLY TAKE ACTION SIR. & 00e3902431681886db4cf60de2db9188                 & f0aa1d06f3216e1cc2adef8f8bf1c376                 & ND-TONDIARPET                                    & 16679                                            & NA                                               & NA                                               & NA                                               & NO                                               & 1                                               \\\\\n",
       "\t5 & 5                                & 5                                & Desilting of Drain               & MADURAVOYAL                      & KRISHNA NAGAR                    & KRISHNA NAGAR 24TH STREET        & South Region                     & N11                              & N147                             & PLEASE RECTIFY THE PROBLEM.      & 00e3902431681886db4cf60de2db9188 & d1d8af0359f1c13650622e2ceda58886 & NL-VALASARAVAKKAM                & 16679                            & NA                               & NA                               & NA                               & NO                               & 1                               \\\\\n",
       "\t6 & 6                                                                       & 6                                                                       & Dog menace                                                              & Gopalapuram                                                             & Gopalapuram                                                             & Ganesh Street                                                           & Central Region                                                          & N09                                                                     & N111                                                                    & SO MANY COWS ARE AROUND IN MY AREA SO PLEASE KINDLY CATCH THAT COWS SIR & 00e3902431681886db4cf60de2db9188                                        & e0227e34bff8489fe1c048d0ad97f92b                                        & NJ-TEYNAMPET                                                            & 16679                                                                   & NA                                                                      & NA                                                                      & NA                                                                      & NO                                                                      & 1                                                                      \\\\\n",
       "\\end{tabular}\n"
      ],
      "text/plain": [
       "  X.1 X                      Complaint.Type                 Area\n",
       "1   1 1                    Mosquito menace  Raja Annamalai Puram\n",
       "2   2 2 Complaints related to property tax              Mylapore\n",
       "3   3 3                        Stray cattle Raja Annamalai Puram\n",
       "4   4 4                         Dog menace           Kodungaiyur\n",
       "5   5 5                  Desilting of Drain          MADURAVOYAL\n",
       "6   6 6                         Dog menace           Gopalapuram\n",
       "              Locality                     Street         Region Zone Ward\n",
       "1 Raja Annamalai Puram           Chamiers Iv Lane Central Region  N09 N122\n",
       "2             Mylapore     Justice Sundaram Salai Central Region  N09 N124\n",
       "3        Rohini Garden Rohini Garden Cross Street   South Region  N13 N173\n",
       "4            K.M Nagar                 Perumal St   North Region  N04 N037\n",
       "5        KRISHNA NAGAR  KRISHNA NAGAR 24TH STREET   South Region  N11 N147\n",
       "6          Gopalapuram              Ganesh Street Central Region  N09 N111\n",
       "                                                                                                                                                                                                          Complaint.Details\n",
       "1                                                                                                                                                                                           PLEASE RECTIFY THE PROBLEM SIR.\n",
       "2 i remitted the tax arrears of rs 4522 on 21-08-2017 via citi bank card. i have been debited my bank and they confirm the transaction is through. but whereas in the web still it shows as arrears, can you please help me\n",
       "3                                                                                                                                                              PLEASE CATCH THE STRAY CATTLE PROBLEM SIR SO PLEASE RECTIFY.\n",
       "4                                                                                                                                                                          SO MANY DOGS ARE HERE SO KINDLY TAKE ACTION SIR.\n",
       "5                                                                                                                                                                                               PLEASE RECTIFY THE PROBLEM.\n",
       "6                                                                                                                                                   SO MANY COWS ARE AROUND IN MY AREA SO PLEASE KINDLY CATCH THAT COWS SIR\n",
       "                             Email                           Mobile\n",
       "1 00e3902431681886db4cf60de2db9188 f0fbecb87d53088508df2164687a7974\n",
       "2 00e3902431681886db4cf60de2db9188 44c25de05e7654fa0f45741a3391a6d9\n",
       "3 00e3902431681886db4cf60de2db9188 550e0ba50963aa8d8074508918c9fba3\n",
       "4 00e3902431681886db4cf60de2db9188 f0aa1d06f3216e1cc2adef8f8bf1c376\n",
       "5 00e3902431681886db4cf60de2db9188 d1d8af0359f1c13650622e2ceda58886\n",
       "6 00e3902431681886db4cf60de2db9188 e0227e34bff8489fe1c048d0ad97f92b\n",
       "         Department Complaint.Date Resolution.Date\n",
       "1      NJ-TEYNAMPET     2015-09-01            <NA>\n",
       "2      NJ-TEYNAMPET     2015-09-01            <NA>\n",
       "3          NN-ADYAR     2015-09-01            <NA>\n",
       "4     ND-TONDIARPET     2015-09-01            <NA>\n",
       "5 NL-VALASARAVAKKAM     2015-09-01            <NA>\n",
       "6      NJ-TEYNAMPET     2015-09-01            <NA>\n",
       "  Number.of.days.for.resolution Range Is.Resolved NumComplaints\n",
       "1                          <NA>  <NA>          NO             1\n",
       "2                          <NA>  <NA>          NO             1\n",
       "3                          <NA>  <NA>          NO             1\n",
       "4                          <NA>  <NA>          NO             1\n",
       "5                          <NA>  <NA>          NO             1\n",
       "6                          <NA>  <NA>          NO             1"
      ]
     },
     "execution_count": 2,
     "metadata": {},
     "output_type": "execute_result"
    }
   ],
   "source": [
    "# load the data\n",
    "df <- read.csv(INPUT_FILE, stringsAsFactors = F)\n",
    "df$Complaint.Date <- as.Date(df$Complaint.Date, format = \"%m/%d/%Y\")\n",
    "df$Resolution.Date <- as.Date(df$Resolution.Date, format=\"%m/%d/%Y\")\n",
    "df$NumComplaints <- 1\n",
    "minDate <- min(df$Complaint.Date)\n",
    "maxDate <- max(df$Complaint.Date)\n",
    "\n",
    "head(df)"
   ]
  },
  {
   "cell_type": "code",
   "execution_count": 3,
   "metadata": {
    "collapsed": false
   },
   "outputs": [
    {
     "name": "stdout",
     "output_type": "stream",
     "text": [
      " [1] \"Non Burning of Street Lights\"                  \n",
      " [2] \"Dog menace \"                                   \n",
      " [3] \"Removal of garbage\"                            \n",
      " [4] \"Mosquito menace \"                              \n",
      " [5] \"Stagnation of water\"                           \n",
      " [6] \"Complaints related to property tax \"           \n",
      " [7] \"Pot hole fill up/Repairs to the damage surface\"\n",
      " [8] \"Request to relay the Road\"                     \n",
      " [9] \"Removal of Debris\"                             \n",
      "[10] \"Encroachment on the public property\"           \n"
     ]
    }
   ],
   "source": [
    "# pick top complaint types, and model only that data\n",
    "topComplaintTypes <- data.frame(table(df$Complaint.Type))\n",
    "topComplaintTypes <- topComplaintTypes[order(-topComplaintTypes$Freq),]\n",
    "topComplaintTypes <- topComplaintTypes[1:10, ]\n",
    "topComplaintTypes <- as.character(topComplaintTypes$Var1)\n",
    "print(topComplaintTypes)"
   ]
  },
  {
   "cell_type": "code",
   "execution_count": 4,
   "metadata": {
    "collapsed": false
   },
   "outputs": [],
   "source": [
    "data <- df[df$Complaint.Type %in% topComplaintTypes, ]"
   ]
  },
  {
   "cell_type": "code",
   "execution_count": 5,
   "metadata": {
    "collapsed": false
   },
   "outputs": [
    {
     "name": "stdout",
     "output_type": "stream",
     "text": [
      " [1] \"Mosquito menace \"                              \n",
      " [2] \"Complaints related to property tax \"           \n",
      " [3] \"Dog menace \"                                   \n",
      " [4] \"Removal of garbage\"                            \n",
      " [5] \"Non Burning of Street Lights\"                  \n",
      " [6] \"Pot hole fill up/Repairs to the damage surface\"\n",
      " [7] \"Removal of Debris\"                             \n",
      " [8] \"Stagnation of water\"                           \n",
      " [9] \"Request to relay the Road\"                     \n",
      "[10] \"Encroachment on the public property\"           \n"
     ]
    }
   ],
   "source": [
    "print(unique(data$Complaint.Type))"
   ]
  },
  {
   "cell_type": "markdown",
   "metadata": {},
   "source": [
    "# Create data files\n",
    "\n",
    "For ease of modeling, construct data in the following format: `\"Month\", \"Year\", \"Complaints\"` , with missing values filled in. \n"
   ]
  },
  {
   "cell_type": "code",
   "execution_count": 7,
   "metadata": {
    "collapsed": false
   },
   "outputs": [
    {
     "ename": "ERROR",
     "evalue": "Error in eval(expr, envir, enclos): could not find function \"year\"\n",
     "output_type": "error",
     "traceback": [
      "Error in eval(expr, envir, enclos): could not find function \"year\"\n"
     ]
    },
    {
     "ename": "ERROR",
     "evalue": "Error in eval(expr, envir, enclos): could not find function \"year\"\n",
     "output_type": "error",
     "traceback": [
      "Error in eval(expr, envir, enclos): could not find function \"year\"\n"
     ]
    },
    {
     "ename": "ERROR",
     "evalue": "Error in seq(from = minYear, to = maxYear): object 'minYear' not found\n",
     "output_type": "error",
     "traceback": [
      "Error in seq(from = minYear, to = maxYear): object 'minYear' not found\n"
     ]
    }
   ],
   "source": [
    "# create the 'ideal' data set\n",
    "# TODO Sahil, isn't there a better way to do this?\n",
    "minYear <- year(minDate)\n",
    "maxYear <- year(maxDate)\n",
    "ideal <- data.frame(Month=character(), Year=integer(), stringsAsFactors=F)\n",
    "for(year in seq(from=minYear, to=maxYear)) {    \n",
    "    for(month in month.abb) {\n",
    "        r <- nrow(ideal)\n",
    "        month <- as.character(month)\n",
    "        ideal[nrow(ideal)+1,] <- c(month, year)        \n",
    "    }\n",
    "}"
   ]
  },
  {
   "cell_type": "code",
   "execution_count": null,
   "metadata": {
    "collapsed": false
   },
   "outputs": [],
   "source": [
    "head(ideal)"
   ]
  },
  {
   "cell_type": "code",
   "execution_count": null,
   "metadata": {
    "collapsed": false
   },
   "outputs": [],
   "source": [
    "constructMonthlyData <- function(data, complaintType) {\n",
    "    # make this a function for re-use\n",
    "    d <- data[data$Complaint.Type == complaintType, ]\n",
    "    # create xts object for rolling up the data \n",
    "    series <- xts(d$NumComplaints, d$Complaint.Date)\n",
    "    series <- apply.monthly(series, FUN = sum)\n",
    "    # create a df for easy access\n",
    "    monthlyData <- data.frame(Date=index(series), Complaints=coredata(series))\n",
    "    # create columns for join \n",
    "    monthlyData$Month <- month.abb[month(monthlyData$Date)]\n",
    "    monthlyData$Year <- year(monthlyData$Date)\n",
    "    joined <- merge(x = ideal, y = monthlyData, by = c(\"Month\", \"Year\"), sort=F, all= T)        \n",
    "    # don't need date\n",
    "    joined$Date <- NULL\n",
    "    # sort it by year-month, since R doesn't do it otherwise /endrant    \n",
    "    joined <- joined[order(as.yearmon(paste0(joined$Year, \"-\", joined$Month), \"%Y-%b\")), ]\n",
    "    joined[is.na(joined$Complaints), ]$Complaints <- 0   \n",
    "    joined\n",
    "}\n",
    "# create the files\n",
    "for(complaintType in topComplaintTypes) {    \n",
    "    joined <- constructMonthlyData(data, complaintType)\n",
    "    # one complaint type has a '/' in it, which messes up the paths    \n",
    "    path <- file.path(DATA_FOLDER, paste0(gsub(\"/\", \"\", complaintType), \".csv\"))\n",
    "    print(paste0(\"Saving file\", path))\n",
    "    write.csv(joined, file=path, row.names=F)\n",
    "}"
   ]
  },
  {
   "cell_type": "markdown",
   "metadata": {},
   "source": [
    "# Baseline method\n",
    "\n",
    "The purpose of this exercise is to establish a [baseline](http://machinelearningmastery.com/how-to-get-baseline-results-and-why-they-matter/) to help us compare the 'naive' method with ML models. \n",
    "\n",
    "The modelling methods used are described in detail in [here](https://www.otexts.org/fpp/2/3). "
   ]
  },
  {
   "cell_type": "code",
   "execution_count": null,
   "metadata": {
    "collapsed": false
   },
   "outputs": [],
   "source": [
    "# trying it with one complaint type\n",
    "complaintType <- topComplaintTypes[1]\n",
    "monthly <- constructMonthlyData(data, complaintType)\n",
    "monthly$Complaints"
   ]
  },
  {
   "cell_type": "code",
   "execution_count": null,
   "metadata": {
    "collapsed": false
   },
   "outputs": [],
   "source": [
    "# convert it to a ts object\n",
    "monthly <- ts(monthly$Complaints, start=c(minYear, 1), frequency = 12)"
   ]
  },
  {
   "cell_type": "code",
   "execution_count": null,
   "metadata": {
    "collapsed": false
   },
   "outputs": [],
   "source": [
    "print(monthly)"
   ]
  },
  {
   "cell_type": "code",
   "execution_count": null,
   "metadata": {
    "collapsed": false
   },
   "outputs": [],
   "source": [
    "seasonplot(monthly,ylab=\"Number of complaints\", xlab=\"Year\",\n",
    "  main=paste0(\"Seasona plot for \", complaintType),\n",
    "  year.labels=TRUE, year.labels.left=TRUE, col=1:20, pch=19)"
   ]
  },
  {
   "cell_type": "code",
   "execution_count": null,
   "metadata": {
    "collapsed": false
   },
   "outputs": [],
   "source": [
    "naiveMethodsPlot <- function(monthly, complaintType) {\n",
    "    h <- 12\n",
    "    trainStart <- c(2013, 1)\n",
    "    trainEnd <- c(2015, 1)\n",
    "    testStart <- trainEnd\n",
    "    testEnd <- c(2015, 12)\n",
    "    monthly2 <- window(monthly,start=trainStart, end=trainEnd)\n",
    "    monthlyAfter <- window(monthly, start=testStart, end=testEnd)    \n",
    "    monthlyfit1 <- meanf(monthly2, h=h)\n",
    "    monthlyfit2 <- naive(monthly2, h=h)\n",
    "    monthlyfit3 <- snaive(monthly2, h=h)\n",
    "    monthlyfit4 <- rwf(monthly2, h=h, drift=TRUE)\n",
    "    \n",
    "    plot(monthlyfit1, plot.conf=FALSE,\n",
    "      main=paste0(\"Forecasts for \", complaintType))    \n",
    "    lines(monthlyAfter, lty=2)\n",
    "    lines(monthlyfit2$mean,col=2)\n",
    "    lines(monthlyfit3$mean,col=3)\n",
    "    lines(monthlyfit4$mean, col=6)\n",
    "    legend(\"topleft\",col=c(1,4,2,3,6), lty=c(2, 1, 1, 1,1),\n",
    "      legend=c(\"Actual Data\", \"Pred: Mean method\",\n",
    "               \"Pred: Naive method\",\"Pred: Seasonal naive method\",\n",
    "              \"Pred: Drift Method\"))        \n",
    "    # TODO: Remove this line, since later on, we'll have all the data for 2015 \n",
    "    monthlyAfter <- window(monthly, start=c(maxYear, 1), end=c(maxYear, 6))    \n",
    "    print(paste0(complaintType, \": Mean Method\"))\n",
    "    print(accuracy(monthlyfit1, monthlyAfter))\n",
    "    print(paste0(complaintType, \": Naive Method\"))\n",
    "    print(accuracy(monthlyfit2, monthlyAfter))\n",
    "    print(paste0(complaintType, \": Seasonal Method\"))\n",
    "    print(accuracy(monthlyfit3, monthlyAfter))\n",
    "    print(paste0(complaintType, \": Drift Method\"))\n",
    "    print(accuracy(monthlyfit4, monthlyAfter))\n",
    "}\n",
    "naiveMethodsPlot(monthly, topComplaintTypes[1])"
   ]
  },
  {
   "cell_type": "code",
   "execution_count": null,
   "metadata": {
    "collapsed": false
   },
   "outputs": [],
   "source": [
    "# do this for other complaint types as well\n",
    "for(complaintType in topComplaintTypes[2:length(topComplaintTypes)]) {\n",
    "    monthly <- constructMonthlyData(data, complaintType)\n",
    "    monthly <- ts(monthly$Complaints, start=c(minYear, 1), frequency = 12)\n",
    "    naiveMethodsPlot(monthly, complaintType)    \n",
    "}"
   ]
  },
  {
   "cell_type": "markdown",
   "metadata": {
    "collapsed": true
   },
   "source": [
    "## Boilerplate Code\n",
    "The code below contains some boilerplate code that loads the data into a usable format\n"
   ]
  },
  {
   "cell_type": "code",
   "execution_count": null,
   "metadata": {
    "collapsed": false
   },
   "outputs": [],
   "source": [
    "loadData <- function(dataFolder) {\n",
    "    files <- list.files(dataFolder)\n",
    "    data <- list()\n",
    "    for(file in files) {    \n",
    "        df <- read.csv(paste0(dataFolder, \"/\", file), stringsAsFactors=F)    \n",
    "        minYear <- min(df$Year)\n",
    "        complaintType <- substr(file,1,(nchar(file))-4)    \n",
    "        tsObject <- ts(df$Complaints, start=c(minYear, 1), frequency = 12)\n",
    "        data[[complaintType]] <- tsObject\n",
    "    }\n",
    "    data\n",
    "}\n",
    "print(loadData(DATA_FOLDER))"
   ]
  }
 ],
 "metadata": {
  "kernelspec": {
   "display_name": "R",
   "language": "R",
   "name": "ir"
  },
  "language_info": {
   "codemirror_mode": "r",
   "file_extension": ".r",
   "mimetype": "text/x-r-source",
   "name": "R",
   "pygments_lexer": "r",
   "version": "3.3.1"
  }
 },
 "nbformat": 4,
 "nbformat_minor": 0
}
